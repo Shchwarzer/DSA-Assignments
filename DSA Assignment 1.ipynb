{
 "cells": [
  {
   "cell_type": "code",
   "execution_count": 2,
   "id": "c81ff574",
   "metadata": {},
   "outputs": [
    {
     "name": "stdout",
     "output_type": "stream",
     "text": [
      "The numbers equal to sum are: 2 and 7 which add to target: 9\n"
     ]
    }
   ],
   "source": [
    "def TwoSumMethod(numbers, sum):\n",
    "    for i in range(len(numbers)-1):\n",
    "        for j in range(i+1,len(numbers)):\n",
    "            if numbers[i] + numbers[j] == sum:\n",
    "                print(f\"The numbers equal to sum are: {numbers[0]} and {numbers[1]} which add to target: {sum}\")\n",
    "                \n",
    "                \n",
    "numbers = [2,7,11,15]\n",
    "sum = 9\n",
    "TwoSumMethod(numbers,sum)"
   ]
  },
  {
   "cell_type": "code",
   "execution_count": null,
   "id": "693929e8",
   "metadata": {},
   "outputs": [],
   "source": []
  }
 ],
 "metadata": {
  "kernelspec": {
   "display_name": "Python 3 (ipykernel)",
   "language": "python",
   "name": "python3"
  },
  "language_info": {
   "codemirror_mode": {
    "name": "ipython",
    "version": 3
   },
   "file_extension": ".py",
   "mimetype": "text/x-python",
   "name": "python",
   "nbconvert_exporter": "python",
   "pygments_lexer": "ipython3",
   "version": "3.10.9"
  }
 },
 "nbformat": 4,
 "nbformat_minor": 5
}
