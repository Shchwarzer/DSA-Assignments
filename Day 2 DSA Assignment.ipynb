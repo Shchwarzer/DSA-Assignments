{
 "cells": [
  {
   "cell_type": "markdown",
   "id": "a1c12c0f",
   "metadata": {},
   "source": [
    "# Answer 1"
   ]
  },
  {
   "cell_type": "code",
   "execution_count": 4,
   "id": "2e2535b0",
   "metadata": {},
   "outputs": [
    {
     "name": "stdout",
     "output_type": "stream",
     "text": [
      "The solution is: 4\n"
     ]
    }
   ],
   "source": [
    "def MinSum(number):\n",
    "    number.sort()\n",
    "    sum = 0\n",
    "    for i in range(0,len(number),2):\n",
    "        sum = sum + min(number[i], number[i+1])\n",
    "    return sum\n",
    "\n",
    "number  =[1,4,3,2]\n",
    "Solution = MinSum(number)\n",
    "print(f\"The solution is: {Solution}\")"
   ]
  },
  {
   "cell_type": "markdown",
   "id": "fb90f48a",
   "metadata": {},
   "source": [
    "# Answer 2"
   ]
  },
  {
   "cell_type": "code",
   "execution_count": 20,
   "id": "921e1c06",
   "metadata": {},
   "outputs": [
    {
     "name": "stdout",
     "output_type": "stream",
     "text": [
      "Maximum Candy eaten by Alice is: 3\n"
     ]
    }
   ],
   "source": [
    "def MaxCandy(candyType):\n",
    "    Maximum = len(candyType)/2\n",
    "    Unique = set()\n",
    "    \n",
    "    for i in candyType:\n",
    "        Unique.add(i)\n",
    "        if len(Unique) == Maximum:\n",
    "            break\n",
    "    return len(Unique)\n",
    "\n",
    "candyType = [1,1,2,2,3,3]\n",
    "result = MaxCandy(candyType)\n",
    "print(f\"Maximum Candy eaten by Alice is: {result}\")"
   ]
  },
  {
   "cell_type": "markdown",
   "id": "61f46371",
   "metadata": {},
   "source": [
    "# Answer 3"
   ]
  },
  {
   "cell_type": "code",
   "execution_count": 22,
   "id": "044c995f",
   "metadata": {},
   "outputs": [
    {
     "name": "stdout",
     "output_type": "stream",
     "text": [
      "5\n"
     ]
    }
   ],
   "source": [
    "def LHS(nums):\n",
    "    frequency_of_number = {}\n",
    "    for i in nums:\n",
    "            frequency_of_number[i] = frequency_of_number.get(i,0) + 1\n",
    "    \n",
    "    maximum_length = 0\n",
    "     \n",
    "    for i in nums:\n",
    "        if i+1 in frequency_of_number:\n",
    "            length = frequency_of_number[i] + frequency_of_number[i+1]\n",
    "            maximum_length = max(length, maximum_length)\n",
    "            \n",
    "    return maximum_length\n",
    "\n",
    "nums = [1, 3, 2, 2, 5, 2, 3, 7]\n",
    "print(LHS(nums))"
   ]
  },
  {
   "cell_type": "markdown",
   "id": "d18af619",
   "metadata": {},
   "source": [
    "# Answer 4"
   ]
  },
  {
   "cell_type": "code",
   "execution_count": 34,
   "id": "beb9dd58",
   "metadata": {},
   "outputs": [
    {
     "name": "stdout",
     "output_type": "stream",
     "text": [
      "True\n"
     ]
    }
   ],
   "source": [
    "def Flowerplacement(flowerbed,n):\n",
    "    count = 0\n",
    "    x = len(flowerbed)\n",
    "    i = 0\n",
    "    \n",
    "    while i < x:\n",
    "        if flowerbed[i] == 0 and (i==0 or flowerbed[i-1]==0) and (i == x - 1 or flowerbed[i+1]== 0):\n",
    "            flowerbed[i] = 1\n",
    "            count += 1\n",
    "            i+=1\n",
    "        i += 1\n",
    "        \n",
    "    return count>=n\n",
    "\n",
    "flowerbed = [1,0,0,0,1]\n",
    "n=1\n",
    "print(Flowerplacement(flowerbed,n))\n"
   ]
  },
  {
   "cell_type": "markdown",
   "id": "0fb2ef7f",
   "metadata": {},
   "source": [
    "# Answer 5"
   ]
  },
  {
   "cell_type": "code",
   "execution_count": 40,
   "id": "62836938",
   "metadata": {},
   "outputs": [
    {
     "name": "stdout",
     "output_type": "stream",
     "text": [
      "Max product is: 28518\n"
     ]
    }
   ],
   "source": [
    "def MaximumProduct(nums):\n",
    "    max_num1 =max_num2 = max_num3 = float('-inf')\n",
    "    min_num1 = min_num2 = float('inf')\n",
    "    \n",
    "    for i in nums:\n",
    "        if i > max_num1:\n",
    "            max_num3 = max_num2\n",
    "            max_num2 = max_num1\n",
    "            max_num1 = i   \n",
    "        elif i > max_num2:\n",
    "            max_num3 = max_num2\n",
    "            max_num2 = i\n",
    "        elif i > max_num3:\n",
    "            max_num3 = i\n",
    "            \n",
    "        if i < min_num1:\n",
    "            min_num2 = min_num1\n",
    "            min_num1 = i\n",
    "        elif i < min_num2:\n",
    "            min_num2 = i\n",
    "            \n",
    "        \n",
    "    \n",
    "    return max(max_num1*max_num2*max_num3, min_num1*min_num2*max_num1)\n",
    "\n",
    "\n",
    "nums = [1,2,3,-98,-97]\n",
    "result = MaximumProduct(nums)\n",
    "print(f\"Max product is: {result}\")"
   ]
  },
  {
   "cell_type": "markdown",
   "id": "ce1bd9ce",
   "metadata": {},
   "source": [
    "# Answer 6"
   ]
  },
  {
   "cell_type": "code",
   "execution_count": 46,
   "id": "48750b56",
   "metadata": {},
   "outputs": [
    {
     "name": "stdout",
     "output_type": "stream",
     "text": [
      "Index is: 4\n"
     ]
    }
   ],
   "source": [
    "def search(nums,target):\n",
    "    left = 0\n",
    "    right = len(nums) - 1 \n",
    "    \n",
    "    while left<=right:\n",
    "        mid_val = int((left + right)/2)\n",
    "        \n",
    "        if nums[mid_val] == target:\n",
    "            return mid_val\n",
    "        elif nums[mid_val] < target:\n",
    "            left = mid_val + 1\n",
    "        else:\n",
    "            right = mid_val + 1\n",
    "            \n",
    "    return -1\n",
    "\n",
    "nums = [-1,0,3,5,9,12]\n",
    "target = 9\n",
    "result = search(nums,target)\n",
    "print(f\"Index is: {result}\")"
   ]
  },
  {
   "cell_type": "markdown",
   "id": "46370a22",
   "metadata": {},
   "source": [
    "# Answer 7"
   ]
  },
  {
   "cell_type": "code",
   "execution_count": 49,
   "id": "a188ebdf",
   "metadata": {},
   "outputs": [
    {
     "name": "stdout",
     "output_type": "stream",
     "text": [
      "True\n"
     ]
    }
   ],
   "source": [
    "def isMonotonic(nums):\n",
    "    isIncreasing = True\n",
    "    isDecreasing = True\n",
    "\n",
    "    for i in range(1, len(nums)):\n",
    "        if nums[i] > nums[i - 1]:\n",
    "            isDecreasing = False\n",
    "        if nums[i] < nums[i - 1]:\n",
    "            isIncreasing = False\n",
    "        if not isIncreasing and not isDecreasing:\n",
    "            return False\n",
    "\n",
    "    return True\n",
    "\n",
    "nums = [1,2,2,3]\n",
    "print(isMonotonic(nums))"
   ]
  },
  {
   "cell_type": "markdown",
   "id": "92f38cab",
   "metadata": {},
   "source": [
    "# Answer 8"
   ]
  },
  {
   "cell_type": "code",
   "execution_count": 52,
   "id": "828457e7",
   "metadata": {},
   "outputs": [
    {
     "name": "stdout",
     "output_type": "stream",
     "text": [
      "The score is: 4\n"
     ]
    }
   ],
   "source": [
    "def minimumScore(nums, k):\n",
    "    min_num = min(nums)\n",
    "    max_num = max(nums)\n",
    "\n",
    "    if k == 0:\n",
    "        return max_num - min_num\n",
    "\n",
    "    modified_min = min_num + k\n",
    "    modified_max = max_num - k\n",
    "\n",
    "    return min(modified_max - modified_min, max_num - min_num)\n",
    "\n",
    "nums = [1,2,3,4,5]\n",
    "k = 0\n",
    "result = minimumScore(nums, k)\n",
    "print(f\"The score is: {result}\")"
   ]
  },
  {
   "cell_type": "code",
   "execution_count": null,
   "id": "d7fd413b",
   "metadata": {},
   "outputs": [],
   "source": []
  }
 ],
 "metadata": {
  "kernelspec": {
   "display_name": "Python 3 (ipykernel)",
   "language": "python",
   "name": "python3"
  },
  "language_info": {
   "codemirror_mode": {
    "name": "ipython",
    "version": 3
   },
   "file_extension": ".py",
   "mimetype": "text/x-python",
   "name": "python",
   "nbconvert_exporter": "python",
   "pygments_lexer": "ipython3",
   "version": "3.10.9"
  }
 },
 "nbformat": 4,
 "nbformat_minor": 5
}
